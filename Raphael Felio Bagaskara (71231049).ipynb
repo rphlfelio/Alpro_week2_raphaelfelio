{
 "cells": [
  {
   "cell_type": "code",
   "execution_count": 13,
   "id": "d1afa4a8",
   "metadata": {},
   "outputs": [
    {
     "name": "stdout",
     "output_type": "stream",
     "text": [
      "+++++Menghitung Body Mass Index+++++\n",
      "Masukkan Berat Badan (kg) : 50\n",
      "Masukkan Tinggi Badan (m) : 1.7\n",
      "Total Body Mass Index :  17.301038062283737\n"
     ]
    }
   ],
   "source": [
    "print (\"+++++Menghitung Body Mass Index+++++\")\n",
    "berat = int(input( \"Masukkan Berat Badan (kg) : \"))\n",
    "tinggi = float(input( \"Masukkan Tinggi Badan (m) : \"))\n",
    "body_index = berat / (tinggi**2)\n",
    "print(\"Total Body Mass Index : \",body_index)"
   ]
  },
  {
   "cell_type": "code",
   "execution_count": 24,
   "id": "08995c79",
   "metadata": {},
   "outputs": [
    {
     "name": "stdout",
     "output_type": "stream",
     "text": [
      "menghitung fungsi bilangan bulat\n",
      "masukkan bilangan bulat : 5\n",
      "hasil fungsi bilangan bulat =   263.0\n"
     ]
    }
   ],
   "source": [
    "print('menghitung fungsi bilangan bulat')\n",
    "x = int(input('masukkan bilangan bulat : '))\n",
    "fungsi = int(2*(x)**3) + (2*(x)) + (15/(x))\n",
    "print('hasil fungsi bilangan bulat =  ',fungsi)"
   ]
  },
  {
   "cell_type": "code",
   "execution_count": 35,
   "id": "d7eb5150",
   "metadata": {},
   "outputs": [
    {
     "name": "stdout",
     "output_type": "stream",
     "text": [
      "====menghitung pendapatan dan rincian pembayaran====\n",
      "\n",
      "=================untuk 5 minggu=====================\n",
      "\n",
      "Masukkan Gaji per jam yang anda inginkan : Rp. 9000\n",
      "Jumlah jam kerja yang akan dilakukan dalam seminggu : 50\n",
      "Pendapatan kotor : Rp. 2250000.0\n",
      "Pendapatan bersih : Rp. 1935000.0\n",
      "jumlah uang untuk membeli pakaian: Rp. 193500.0\n",
      "jumlah uang untuk membeli alat tulis : Rp. 174150.0\n",
      "jumlah uang untuk sedekah : Rp. 391837.5\n",
      "jumlah uang untuk anak yatim : Rp. 1175160.0\n",
      "jumlah uang untuk kaum dhuafa : Rp. 352.5\n"
     ]
    }
   ],
   "source": [
    "print('====menghitung pendapatan dan rincian pembayaran====\\n')\n",
    "print('=================untuk 5 minggu=====================\\n')\n",
    "#input\n",
    "gaji_per_jam = float(input(\"Masukkan Gaji per jam yang anda inginkan : Rp. \"))\n",
    "jumlah_jam_minggu = float(input(\"Jumlah jam kerja yang akan dilakukan dalam seminggu : \"))\n",
    "pendapatan_total = float(gaji_per_jam * jumlah_jam_minggu) * 5\n",
    "#perhitungan rincian pendapatan\n",
    "#pembayaran pajak 14%\n",
    "pajak = pendapatan_total - (pendapatan_total * 0.14)\n",
    "#beli baju dan aksesoris 10%\n",
    "beli_baju = pajak * 0.10\n",
    "jumlah_beli_baju = pajak - beli_baju\n",
    "#beli alat tulis 1%\n",
    "alat_tulis= jumlah_beli_baju * 0.1\n",
    "jumlah_beli_tulis = jumlah_beli_baju - alat_tulis\n",
    "#sedekah 25%\n",
    "sedekah_rp = jumlah_beli_tulis * 0.25\n",
    "jumlah_stlh_sedekah = jumlah_beli_tulis - sedekah_rp \n",
    "#setiap Rp.1000 30% budi sedekah anak yatim \n",
    "sedekah_yatim = (jumlah_stlh_sedekah//1000) * 0.30\n",
    "total_per_seribu =jumlah_stlh_sedekah - sedekah_yatim \n",
    "#sisa uang di serahkan ke kaum Dhuafa\n",
    "kaum_dhuafa =(jumlah_stlh_sedekah - total_per_seribu)\n",
    "#output\n",
    "print('Pendapatan kotor : Rp.',pendapatan_total)\n",
    "print('Pendapatan bersih : Rp.',pajak)\n",
    "print('jumlah uang untuk membeli pakaian: Rp.' ,beli_baju)\n",
    "print('jumlah uang untuk membeli alat tulis : Rp.',alat_tulis)\n",
    "print('jumlah uang untuk sedekah : Rp.',sedekah_rp)\n",
    "print('jumlah uang untuk anak yatim : Rp.',total_per_seribu)\n",
    "print('jumlah uang untuk kaum dhuafa : Rp.',kaum_dhuafa)\n"
   ]
  },
  {
   "cell_type": "code",
   "execution_count": null,
   "id": "52173c2a",
   "metadata": {},
   "outputs": [],
   "source": []
  }
 ],
 "metadata": {
  "kernelspec": {
   "display_name": "Python 3 (ipykernel)",
   "language": "python",
   "name": "python3"
  },
  "language_info": {
   "codemirror_mode": {
    "name": "ipython",
    "version": 3
   },
   "file_extension": ".py",
   "mimetype": "text/x-python",
   "name": "python",
   "nbconvert_exporter": "python",
   "pygments_lexer": "ipython3",
   "version": "3.11.5"
  }
 },
 "nbformat": 4,
 "nbformat_minor": 5
}
